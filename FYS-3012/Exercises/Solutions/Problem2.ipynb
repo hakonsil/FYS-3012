{
 "cells": [
  {
   "cell_type": "code",
   "execution_count": 1,
   "metadata": {},
   "outputs": [],
   "source": [
    "import numpy as np \n",
    "from scipy.io import loadmat "
   ]
  },
  {
   "cell_type": "code",
   "execution_count": 2,
   "metadata": {},
   "outputs": [
    {
     "ename": "FileNotFoundError",
     "evalue": "[Errno 2] No such file or directory: 'data/Xtr_spam.mat'",
     "output_type": "error",
     "traceback": [
      "\u001b[1;31m---------------------------------------------------------------------------\u001b[0m",
      "\u001b[1;31mFileNotFoundError\u001b[0m                         Traceback (most recent call last)",
      "File \u001b[1;32mc:\\Users\\Håkon\\AppData\\Local\\Programs\\Python\\Python310\\lib\\site-packages\\scipy\\io\\matlab\\_mio.py:39\u001b[0m, in \u001b[0;36m_open_file\u001b[1;34m(file_like, appendmat, mode)\u001b[0m\n\u001b[0;32m     38\u001b[0m \u001b[39mtry\u001b[39;00m:\n\u001b[1;32m---> 39\u001b[0m     \u001b[39mreturn\u001b[39;00m \u001b[39mopen\u001b[39;49m(file_like, mode), \u001b[39mTrue\u001b[39;00m\n\u001b[0;32m     40\u001b[0m \u001b[39mexcept\u001b[39;00m \u001b[39mOSError\u001b[39;00m \u001b[39mas\u001b[39;00m e:\n\u001b[0;32m     41\u001b[0m     \u001b[39m# Probably \"not found\"\u001b[39;00m\n",
      "\u001b[1;31mFileNotFoundError\u001b[0m: [Errno 2] No such file or directory: 'data/Xtr_spam.mat'",
      "\nDuring handling of the above exception, another exception occurred:\n",
      "\u001b[1;31mFileNotFoundError\u001b[0m                         Traceback (most recent call last)",
      "\u001b[1;32mc:\\Users\\Håkon\\Documents\\Skole\\FYS-3012\\Exercises\\Solutions\\Problem2.ipynb Cell 2\u001b[0m line \u001b[0;36m2\n\u001b[0;32m      <a href='vscode-notebook-cell:/c%3A/Users/H%C3%A5kon/Documents/Skole/FYS-3012/Exercises/Solutions/Problem2.ipynb#W1sZmlsZQ%3D%3D?line=0'>1</a>\u001b[0m \u001b[39m#Load data\u001b[39;00m\n\u001b[1;32m----> <a href='vscode-notebook-cell:/c%3A/Users/H%C3%A5kon/Documents/Skole/FYS-3012/Exercises/Solutions/Problem2.ipynb#W1sZmlsZQ%3D%3D?line=1'>2</a>\u001b[0m xtr \u001b[39m=\u001b[39m loadmat(\u001b[39m'\u001b[39;49m\u001b[39mdata/Xtr_spam.mat\u001b[39;49m\u001b[39m'\u001b[39;49m)[\u001b[39m'\u001b[39m\u001b[39mXtr_spam\u001b[39m\u001b[39m'\u001b[39m]\u001b[39m.\u001b[39mT\n\u001b[0;32m      <a href='vscode-notebook-cell:/c%3A/Users/H%C3%A5kon/Documents/Skole/FYS-3012/Exercises/Solutions/Problem2.ipynb#W1sZmlsZQ%3D%3D?line=2'>3</a>\u001b[0m xte \u001b[39m=\u001b[39m loadmat(\u001b[39m'\u001b[39m\u001b[39mdata/Xte_spam.mat\u001b[39m\u001b[39m'\u001b[39m)[\u001b[39m'\u001b[39m\u001b[39mXte_spam\u001b[39m\u001b[39m'\u001b[39m]\u001b[39m.\u001b[39mT\n\u001b[0;32m      <a href='vscode-notebook-cell:/c%3A/Users/H%C3%A5kon/Documents/Skole/FYS-3012/Exercises/Solutions/Problem2.ipynb#W1sZmlsZQ%3D%3D?line=4'>5</a>\u001b[0m ytr \u001b[39m=\u001b[39m loadmat(\u001b[39m'\u001b[39m\u001b[39mdata/ytr_spam.mat\u001b[39m\u001b[39m'\u001b[39m)[\u001b[39m'\u001b[39m\u001b[39mytr_spam\u001b[39m\u001b[39m'\u001b[39m]\u001b[39m.\u001b[39mflatten()\n",
      "File \u001b[1;32mc:\\Users\\Håkon\\AppData\\Local\\Programs\\Python\\Python310\\lib\\site-packages\\scipy\\io\\matlab\\_mio.py:224\u001b[0m, in \u001b[0;36mloadmat\u001b[1;34m(file_name, mdict, appendmat, **kwargs)\u001b[0m\n\u001b[0;32m     87\u001b[0m \u001b[39m\"\"\"\u001b[39;00m\n\u001b[0;32m     88\u001b[0m \u001b[39mLoad MATLAB file.\u001b[39;00m\n\u001b[0;32m     89\u001b[0m \n\u001b[1;32m   (...)\u001b[0m\n\u001b[0;32m    221\u001b[0m \u001b[39m    3.14159265+3.14159265j])\u001b[39;00m\n\u001b[0;32m    222\u001b[0m \u001b[39m\"\"\"\u001b[39;00m\n\u001b[0;32m    223\u001b[0m variable_names \u001b[39m=\u001b[39m kwargs\u001b[39m.\u001b[39mpop(\u001b[39m'\u001b[39m\u001b[39mvariable_names\u001b[39m\u001b[39m'\u001b[39m, \u001b[39mNone\u001b[39;00m)\n\u001b[1;32m--> 224\u001b[0m \u001b[39mwith\u001b[39;00m _open_file_context(file_name, appendmat) \u001b[39mas\u001b[39;00m f:\n\u001b[0;32m    225\u001b[0m     MR, _ \u001b[39m=\u001b[39m mat_reader_factory(f, \u001b[39m*\u001b[39m\u001b[39m*\u001b[39mkwargs)\n\u001b[0;32m    226\u001b[0m     matfile_dict \u001b[39m=\u001b[39m MR\u001b[39m.\u001b[39mget_variables(variable_names)\n",
      "File \u001b[1;32mc:\\Users\\Håkon\\AppData\\Local\\Programs\\Python\\Python310\\lib\\contextlib.py:135\u001b[0m, in \u001b[0;36m_GeneratorContextManager.__enter__\u001b[1;34m(self)\u001b[0m\n\u001b[0;32m    133\u001b[0m \u001b[39mdel\u001b[39;00m \u001b[39mself\u001b[39m\u001b[39m.\u001b[39margs, \u001b[39mself\u001b[39m\u001b[39m.\u001b[39mkwds, \u001b[39mself\u001b[39m\u001b[39m.\u001b[39mfunc\n\u001b[0;32m    134\u001b[0m \u001b[39mtry\u001b[39;00m:\n\u001b[1;32m--> 135\u001b[0m     \u001b[39mreturn\u001b[39;00m \u001b[39mnext\u001b[39;49m(\u001b[39mself\u001b[39;49m\u001b[39m.\u001b[39;49mgen)\n\u001b[0;32m    136\u001b[0m \u001b[39mexcept\u001b[39;00m \u001b[39mStopIteration\u001b[39;00m:\n\u001b[0;32m    137\u001b[0m     \u001b[39mraise\u001b[39;00m \u001b[39mRuntimeError\u001b[39;00m(\u001b[39m\"\u001b[39m\u001b[39mgenerator didn\u001b[39m\u001b[39m'\u001b[39m\u001b[39mt yield\u001b[39m\u001b[39m\"\u001b[39m) \u001b[39mfrom\u001b[39;00m \u001b[39mNone\u001b[39m\n",
      "File \u001b[1;32mc:\\Users\\Håkon\\AppData\\Local\\Programs\\Python\\Python310\\lib\\site-packages\\scipy\\io\\matlab\\_mio.py:17\u001b[0m, in \u001b[0;36m_open_file_context\u001b[1;34m(file_like, appendmat, mode)\u001b[0m\n\u001b[0;32m     15\u001b[0m \u001b[39m@contextmanager\u001b[39m\n\u001b[0;32m     16\u001b[0m \u001b[39mdef\u001b[39;00m \u001b[39m_open_file_context\u001b[39m(file_like, appendmat, mode\u001b[39m=\u001b[39m\u001b[39m'\u001b[39m\u001b[39mrb\u001b[39m\u001b[39m'\u001b[39m):\n\u001b[1;32m---> 17\u001b[0m     f, opened \u001b[39m=\u001b[39m _open_file(file_like, appendmat, mode)\n\u001b[0;32m     18\u001b[0m     \u001b[39mtry\u001b[39;00m:\n\u001b[0;32m     19\u001b[0m         \u001b[39myield\u001b[39;00m f\n",
      "File \u001b[1;32mc:\\Users\\Håkon\\AppData\\Local\\Programs\\Python\\Python310\\lib\\site-packages\\scipy\\io\\matlab\\_mio.py:45\u001b[0m, in \u001b[0;36m_open_file\u001b[1;34m(file_like, appendmat, mode)\u001b[0m\n\u001b[0;32m     43\u001b[0m     \u001b[39mif\u001b[39;00m appendmat \u001b[39mand\u001b[39;00m \u001b[39mnot\u001b[39;00m file_like\u001b[39m.\u001b[39mendswith(\u001b[39m'\u001b[39m\u001b[39m.mat\u001b[39m\u001b[39m'\u001b[39m):\n\u001b[0;32m     44\u001b[0m         file_like \u001b[39m+\u001b[39m\u001b[39m=\u001b[39m \u001b[39m'\u001b[39m\u001b[39m.mat\u001b[39m\u001b[39m'\u001b[39m\n\u001b[1;32m---> 45\u001b[0m     \u001b[39mreturn\u001b[39;00m \u001b[39mopen\u001b[39;49m(file_like, mode), \u001b[39mTrue\u001b[39;00m\n\u001b[0;32m     46\u001b[0m \u001b[39melse\u001b[39;00m:\n\u001b[0;32m     47\u001b[0m     \u001b[39mraise\u001b[39;00m \u001b[39mOSError\u001b[39;00m(\n\u001b[0;32m     48\u001b[0m         \u001b[39m'\u001b[39m\u001b[39mReader needs file name or open file-like object\u001b[39m\u001b[39m'\u001b[39m\n\u001b[0;32m     49\u001b[0m     ) \u001b[39mfrom\u001b[39;00m \u001b[39me\u001b[39;00m\n",
      "\u001b[1;31mFileNotFoundError\u001b[0m: [Errno 2] No such file or directory: 'data/Xtr_spam.mat'"
     ]
    }
   ],
   "source": [
    "#Load data\n",
    "xtr = loadmat('data/Xtr_spam.mat')['Xtr_spam'].T\n",
    "xte = loadmat('data/Xte_spam.mat')['Xte_spam'].T\n",
    "\n",
    "ytr = loadmat('data/ytr_spam.mat')['ytr_spam'].flatten()\n",
    "yte = loadmat('data/yte_spam.mat')['yte_spam'].flatten()\n",
    "\n",
    "ytr[ytr == -1] = 0\n",
    "yte[yte == -1] = 0"
   ]
  },
  {
   "cell_type": "code",
   "execution_count": null,
   "metadata": {},
   "outputs": [
    {
     "name": "stdout",
     "output_type": "stream",
     "text": [
      "(57, 57)\n"
     ]
    }
   ],
   "source": [
    "sigma1 = xtr[np.where(ytr==1)].std(0)\n",
    "sigma2 = xtr[np.where(ytr==0)].std(0)\n",
    "sigma = (sigma1+sigma2)/2\n",
    "\n",
    "S = np.eye(xtr.shape[1])*sigma\n",
    "print(S.shape)"
   ]
  },
  {
   "cell_type": "markdown",
   "metadata": {},
   "source": [
    "2.12\n",
    "Assuming classes are normally distributed\n"
   ]
  },
  {
   "cell_type": "code",
   "execution_count": null,
   "metadata": {},
   "outputs": [
    {
     "name": "stdout",
     "output_type": "stream",
     "text": [
      "(57,) (57,)\n"
     ]
    }
   ],
   "source": [
    "#Estimate means \n",
    "mu1 = np.mean(xtr[ytr == 0], axis=0)\n",
    "mu2 = np.mean(xtr[ytr == 1], axis=0)\n",
    "print(mu1.shape, mu2.shape)"
   ]
  },
  {
   "cell_type": "code",
   "execution_count": null,
   "metadata": {},
   "outputs": [],
   "source": [
    "def normaldist(x, mu, sigma):\n",
    "    exponent = -0.5 * (x - mu) @ np.linalg.inv(sigma) @ (x - mu).T\n",
    "    denominator = (2 * np.pi) ** (len(mu) / 2) * np.sqrt(np.linalg.det(sigma))\n",
    "    return np.diag(np.exp(exponent)/denominator)"
   ]
  },
  {
   "cell_type": "code",
   "execution_count": null,
   "metadata": {},
   "outputs": [
    {
     "name": "stdout",
     "output_type": "stream",
     "text": [
      "Accuracy on spam train data is: 1.0\n",
      "Accuracy on spam test data is: 1.0\n"
     ]
    }
   ],
   "source": [
    "p1, p2 = normaldist(xtr, mu1, S), normaldist(xtr, mu2, S)\n",
    "probs = np.array([p1, p2])\n",
    "pred = np.argmax(probs, axis=0)\n",
    "\n",
    "print(f'Accuracy on spam train data is: {np.round(np.sum(pred == ytr)/len(xtr))}')\n",
    "\n",
    "p1, p2 = normaldist(xte, mu1, S), normaldist(xte, mu2, S)\n",
    "probs = np.array([p1, p2])\n",
    "pred = np.argmax(probs, axis=0)\n",
    "\n",
    "print(f'Accuracy on spam test data is: {np.round(np.sum(pred == yte)/len(xte))}')"
   ]
  },
  {
   "cell_type": "markdown",
   "metadata": {},
   "source": [
    "Doing 2.35 now"
   ]
  },
  {
   "cell_type": "code",
   "execution_count": null,
   "metadata": {},
   "outputs": [],
   "source": [
    "def classifyNN(traindata, trainlabels, testdata, NN=1):\n",
    "    '''\n",
    "    Input:\n",
    "        traindata: Data to be used to assign a classification to testdata\n",
    "        trainlabels: Labels for each traindata point\n",
    "        testdata: Data which we wish to classify\n",
    "        NN: Number of nearest neighbours. By default equals to 1\n",
    "    This function could be switched out with a scipy function which does the same, \n",
    "    but I find value in trying to do it yourself before using premade versions\n",
    "    \n",
    "    For every datapoint in testdata, we need to calculate the distance between it and all traindata points,\n",
    "    then find the NN closest points and classify it to the majority class\n",
    "    '''\n",
    "    \n",
    "    testpredictions = []\n",
    "    \n",
    "    for x in testdata:\n",
    "        distances = np.linalg.norm(traindata - x, axis=-1)\n",
    "        sortdistances = np.argsort(distances)\n",
    "        NNclosestpoints = sortdistances[:NN]\n",
    "        closestlabels = trainlabels[NNclosestpoints]\n",
    "        mostcommonpoint = np.argmax(np.bincount(closestlabels))\n",
    "        testpredictions.append(mostcommonpoint)\n",
    "    \n",
    "    return np.asarray(testpredictions)\n"
   ]
  },
  {
   "cell_type": "code",
   "execution_count": null,
   "metadata": {},
   "outputs": [
    {
     "name": "stdout",
     "output_type": "stream",
     "text": [
      "Accuracy on spam test data when NN=1 is: 1.0\n",
      "Accuracy on spam test data when NN=3 is: 1.0\n"
     ]
    }
   ],
   "source": [
    "pred_xte = classifyNN(xtr, ytr, xte, NN=1)\n",
    "print(f'Accuracy on spam test data when NN=1 is: {np.round(np.sum(pred_xte == yte)/len(xte))}')\n",
    "\n",
    "pred_xte = classifyNN(xtr, ytr, xte, NN=3)\n",
    "print(f'Accuracy on spam test data when NN=3 is: {np.round(np.sum(pred_xte == yte)/len(xte))}')"
   ]
  }
 ],
 "metadata": {
  "kernelspec": {
   "display_name": "env",
   "language": "python",
   "name": "python3"
  },
  "language_info": {
   "codemirror_mode": {
    "name": "ipython",
    "version": 3
   },
   "file_extension": ".py",
   "mimetype": "text/x-python",
   "name": "python",
   "nbconvert_exporter": "python",
   "pygments_lexer": "ipython3",
   "version": "3.10.0"
  },
  "orig_nbformat": 4
 },
 "nbformat": 4,
 "nbformat_minor": 2
}
